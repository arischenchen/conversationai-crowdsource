{
 "cells": [
  {
   "cell_type": "code",
   "execution_count": 17,
   "metadata": {
    "collapsed": true
   },
   "outputs": [],
   "source": [
    "import pandas as pd\n",
    "import numpy as np\n",
    "from collections import OrderedDict, Counter\n",
    "import math"
   ]
  },
  {
   "cell_type": "code",
   "execution_count": 18,
   "metadata": {
    "collapsed": true
   },
   "outputs": [],
   "source": [
    "# Read constructiveness annotations csv\n",
    "#cdf = pd.read_csv('../../CF_output/constructiveness/batch3_f1271448.csv')\n",
    "cdf = pd.read_csv('../../samples/f1269916_constructiveness.csv')"
   ]
  },
  {
   "cell_type": "code",
   "execution_count": 19,
   "metadata": {
    "collapsed": true
   },
   "outputs": [],
   "source": [
    "# Remove test questions    \n",
    "cdf = cdf.query('_golden == False')"
   ]
  },
  {
   "cell_type": "code",
   "execution_count": 20,
   "metadata": {
    "collapsed": true
   },
   "outputs": [],
   "source": [
    "#cdf.rename(columns = {'internal_gold':'internal_gold_constructiveness'}, inplace = True)"
   ]
  },
  {
   "cell_type": "code",
   "execution_count": 21,
   "metadata": {},
   "outputs": [
    {
     "data": {
      "text/plain": [
       "Index(['_unit_id', '_created_at', '_golden', '_id', '_missed', '_started_at',\n",
       "       '_tainted', '_channel', '_trust', '_worker_id', '_country', '_region',\n",
       "       '_city', '_ip', 'agree', 'constructive', 'constructive_characteristics',\n",
       "       'crowd_comments', 'non_constructive_characteristics', 'other_con_chars',\n",
       "       'other_noncon_chars', 'orig__golden', 'agree_gold', 'article_author',\n",
       "       'article_id', 'article_published_date', 'article_text', 'article_title',\n",
       "       'article_url', 'comment_author', 'comment_counter', 'comment_text',\n",
       "       'constructive_characteristics_gold', 'constructive_gold',\n",
       "       'constructive_gold_reason', 'crowd_comments_gold',\n",
       "       'non_constructive_characteristics_gold', 'other_con_chars_gold',\n",
       "       'other_noncon_chars_gold'],\n",
       "      dtype='object')"
      ]
     },
     "execution_count": 21,
     "metadata": {},
     "output_type": "execute_result"
    }
   ],
   "source": [
    "cdf.columns"
   ]
  },
  {
   "cell_type": "code",
   "execution_count": 22,
   "metadata": {},
   "outputs": [
    {
     "name": "stdout",
     "output_type": "stream",
     "text": [
      "{'nannotators': 45, 'ncomments': 1000}\n"
     ]
    }
   ],
   "source": [
    "# Annotation info\n",
    "annotation_info = {}\n",
    "annotation_info['nannotators'] = len(cdf['_worker_id'].unique())\n",
    "annotation_info['ncomments'] = cdf['comment_counter'].unique().shape[0]\n",
    "print(annotation_info)"
   ]
  },
  {
   "cell_type": "code",
   "execution_count": 23,
   "metadata": {
    "collapsed": true
   },
   "outputs": [],
   "source": [
    "# Relevant columns \n",
    "unit_id_col = ['_unit_id']\n",
    "meta_cols = ['article_author', 'article_id', 'article_published_date',\n",
    "       'article_text', 'article_title', 'article_url', 'comment_author',\n",
    "       'comment_counter', 'comment_text','constructive_gold']\n",
    "binary_attributes = ['agree', 'constructive']\n",
    "nominal_attributes = ['constructive_characteristics', 'non_constructive_characteristics']\n",
    "text_attributes = ['crowd_comments', 'other_con_chars', 'other_noncon_chars']"
   ]
  },
  {
   "cell_type": "code",
   "execution_count": 24,
   "metadata": {
    "collapsed": true
   },
   "outputs": [],
   "source": [
    "# Replace text values with numerical values in the dataframe\n",
    "attrs = cdf[binary_attributes].replace(['yes', 'no', 'partially', 'not_sure', 'noopinion'], [1, 0, 0.5, 0.5, np.nan])\n",
    "other_cols = unit_id_col + meta_cols + nominal_attributes + text_attributes\n",
    "cdf = cdf[other_cols].join(attrs)"
   ]
  },
  {
   "cell_type": "code",
   "execution_count": 25,
   "metadata": {
    "collapsed": true
   },
   "outputs": [],
   "source": [
    "# aggregation method for characteristics\n",
    "def list_and_sort(vals):\n",
    "    cnt = Counter()\n",
    "    all_vals = []\n",
    "    for v in vals: \n",
    "        all_vals.extend(v.split())\n",
    "    for val in all_vals:\n",
    "        val = val.strip()\n",
    "        cnt[val] += 1\n",
    "    L = cnt.most_common()\n",
    "    #print('L:', L)\n",
    "    L1 = [key + ':' + str(freq) for (key, freq) in L] \n",
    "    #L = sorted(cnt, key=cnt.get, reverse=True)\n",
    "    return '\\n'.join(L1)"
   ]
  },
  {
   "cell_type": "code",
   "execution_count": 26,
   "metadata": {
    "collapsed": true
   },
   "outputs": [],
   "source": [
    "# aggregation method for text attributes\n",
    "def concatenate(vals):\n",
    "    L = []\n",
    "    for val in vals:\n",
    "        if type(val) != str and math.isnan(val):\n",
    "            L.append('')\n",
    "        else:\n",
    "            L.append(str(val))\n",
    "            \n",
    "    return \"\\n\".join(L)"
   ]
  },
  {
   "cell_type": "code",
   "execution_count": 27,
   "metadata": {
    "collapsed": true
   },
   "outputs": [],
   "source": [
    "# agreegation method for each class of attributes\n",
    "binary_dict = {k: 'mean' for k in binary_attributes}\n",
    "meta_dict = {k: 'first' for k in meta_cols}\n",
    "nominal_dict = {k: list_and_sort for k in nominal_attributes}\n",
    "text_dict = {k: concatenate for k in text_attributes}"
   ]
  },
  {
   "cell_type": "code",
   "execution_count": 28,
   "metadata": {
    "collapsed": true
   },
   "outputs": [],
   "source": [
    "agg_dict = {**binary_dict, **meta_dict, **nominal_dict, **text_dict}"
   ]
  },
  {
   "cell_type": "code",
   "execution_count": 29,
   "metadata": {},
   "outputs": [],
   "source": [
    "# Aggregate the results for all workers on a particular comment\n",
    "aggregated_df = cdf.groupby('_unit_id').agg(agg_dict)\n",
    "aggregated_df['constructive'] = aggregated_df['constructive'].apply(pd.to_numeric)\n",
    "#print(aggregated_df.columns)"
   ]
  },
  {
   "cell_type": "code",
   "execution_count": 30,
   "metadata": {
    "collapsed": true
   },
   "outputs": [],
   "source": [
    "aggregated_df.rename(columns = {'agree':'agree_constructiveness_expt', 'crowd_comments':'crowd_comments_constructiveness_expt'}, inplace=True)"
   ]
  },
  {
   "cell_type": "code",
   "execution_count": 31,
   "metadata": {
    "collapsed": true
   },
   "outputs": [],
   "source": [
    "# relevant columns\n",
    "cols = (['article_id', 'article_author', 'article_published_date', 'article_text', 'article_title',\n",
    "   'article_url', 'comment_author', 'comment_counter', 'comment_text', 'agree_constructiveness_expt', 'constructive' , \n",
    "   'constructive_gold', \n",
    "   'constructive_characteristics', 'non_constructive_characteristics', 'other_con_chars', \n",
    "   'other_noncon_chars', 'crowd_comments_constructiveness_expt'])"
   ]
  },
  {
   "cell_type": "code",
   "execution_count": 32,
   "metadata": {
    "collapsed": true
   },
   "outputs": [],
   "source": [
    "# Write the aggregated csv\n",
    "aggregated_df.to_csv('../../samples/f1269916_constructiveness_aggregated.csv', columns = cols, index = False)"
   ]
  },
  {
   "cell_type": "code",
   "execution_count": 22,
   "metadata": {
    "collapsed": true
   },
   "outputs": [],
   "source": [
    "# Returns a sorted dataframe of comments on constructiveness score\n",
    "def sort_comments(df, field, ascending = False, num = 10):\n",
    "    return df.sort_values(by = field, ascending=ascending).head(10)[['comment_text', field]]"
   ]
  },
  {
   "cell_type": "code",
   "execution_count": 23,
   "metadata": {},
   "outputs": [
    {
     "data": {
      "text/html": [
       "<div>\n",
       "<style>\n",
       "    .dataframe thead tr:only-child th {\n",
       "        text-align: right;\n",
       "    }\n",
       "\n",
       "    .dataframe thead th {\n",
       "        text-align: left;\n",
       "    }\n",
       "\n",
       "    .dataframe tbody tr th {\n",
       "        vertical-align: top;\n",
       "    }\n",
       "</style>\n",
       "<table border=\"1\" class=\"dataframe\">\n",
       "  <thead>\n",
       "    <tr style=\"text-align: right;\">\n",
       "      <th></th>\n",
       "      <th>comment_text</th>\n",
       "      <th>constructive</th>\n",
       "    </tr>\n",
       "    <tr>\n",
       "      <th>_unit_id</th>\n",
       "      <th></th>\n",
       "      <th></th>\n",
       "    </tr>\n",
       "  </thead>\n",
       "  <tbody>\n",
       "    <tr>\n",
       "      <th>1748029213</th>\n",
       "      <td>My New Years resolution is to ignore this poli...</td>\n",
       "      <td>0.0</td>\n",
       "    </tr>\n",
       "    <tr>\n",
       "      <th>1748029266</th>\n",
       "      <td>Are you saying you endorse the decision but no...</td>\n",
       "      <td>0.0</td>\n",
       "    </tr>\n",
       "    <tr>\n",
       "      <th>1748029643</th>\n",
       "      <td>Biggest cabinet and biggest deficit in history...</td>\n",
       "      <td>0.0</td>\n",
       "    </tr>\n",
       "    <tr>\n",
       "      <th>1748029263</th>\n",
       "      <td>'Vic Toews, the Public Safety minister, said S...</td>\n",
       "      <td>0.0</td>\n",
       "    </tr>\n",
       "    <tr>\n",
       "      <th>1748029261</th>\n",
       "      <td>Babysitters just aren't safe in this country. ...</td>\n",
       "      <td>0.0</td>\n",
       "    </tr>\n",
       "    <tr>\n",
       "      <th>1748029258</th>\n",
       "      <td>this government isn't interested in debate or ...</td>\n",
       "      <td>0.0</td>\n",
       "    </tr>\n",
       "    <tr>\n",
       "      <th>1748029648</th>\n",
       "      <td>And I will just hold my breath haha</td>\n",
       "      <td>0.0</td>\n",
       "    </tr>\n",
       "    <tr>\n",
       "      <th>1748029256</th>\n",
       "      <td>Why does stephen harper keep on hurting Canada...</td>\n",
       "      <td>0.0</td>\n",
       "    </tr>\n",
       "    <tr>\n",
       "      <th>1748029653</th>\n",
       "      <td>ENOUGH IS ENOUGH - CONS! The more you rap on t...</td>\n",
       "      <td>0.0</td>\n",
       "    </tr>\n",
       "    <tr>\n",
       "      <th>1748029654</th>\n",
       "      <td>Junior... just will never be ready! PEriod!</td>\n",
       "      <td>0.0</td>\n",
       "    </tr>\n",
       "  </tbody>\n",
       "</table>\n",
       "</div>"
      ],
      "text/plain": [
       "                                                 comment_text  constructive\n",
       "_unit_id                                                                   \n",
       "1748029213  My New Years resolution is to ignore this poli...           0.0\n",
       "1748029266  Are you saying you endorse the decision but no...           0.0\n",
       "1748029643  Biggest cabinet and biggest deficit in history...           0.0\n",
       "1748029263  'Vic Toews, the Public Safety minister, said S...           0.0\n",
       "1748029261  Babysitters just aren't safe in this country. ...           0.0\n",
       "1748029258  this government isn't interested in debate or ...           0.0\n",
       "1748029648                And I will just hold my breath haha           0.0\n",
       "1748029256  Why does stephen harper keep on hurting Canada...           0.0\n",
       "1748029653  ENOUGH IS ENOUGH - CONS! The more you rap on t...           0.0\n",
       "1748029654        Junior... just will never be ready! PEriod!           0.0"
      ]
     },
     "execution_count": 23,
     "metadata": {},
     "output_type": "execute_result"
    }
   ],
   "source": [
    "sort_comments(aggregated_df, 'constructive', ascending=True)"
   ]
  },
  {
   "cell_type": "code",
   "execution_count": null,
   "metadata": {
    "collapsed": true
   },
   "outputs": [],
   "source": []
  }
 ],
 "metadata": {
  "kernelspec": {
   "display_name": "Python 3",
   "language": "python",
   "name": "python3"
  },
  "language_info": {
   "codemirror_mode": {
    "name": "ipython",
    "version": 3
   },
   "file_extension": ".py",
   "mimetype": "text/x-python",
   "name": "python",
   "nbconvert_exporter": "python",
   "pygments_lexer": "ipython3",
   "version": "3.6.1"
  }
 },
 "nbformat": 4,
 "nbformat_minor": 2
}
