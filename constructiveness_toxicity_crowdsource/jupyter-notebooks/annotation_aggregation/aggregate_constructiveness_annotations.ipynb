{
 "cells": [
  {
   "cell_type": "code",
   "execution_count": 1,
   "metadata": {
    "collapsed": true
   },
   "outputs": [],
   "source": [
    "import pandas as pd\n",
    "import numpy as np\n",
    "from collections import OrderedDict, Counter\n",
    "import math"
   ]
  },
  {
   "cell_type": "code",
   "execution_count": 2,
   "metadata": {
    "collapsed": true
   },
   "outputs": [],
   "source": [
    "# Read constructiveness annotations csv\n",
    "cdf = pd.read_csv('../CF_output/Batch2_1000/f1269916_constructiveness.csv')"
   ]
  },
  {
   "cell_type": "code",
   "execution_count": 3,
   "metadata": {
    "collapsed": true
   },
   "outputs": [],
   "source": [
    "# Remove test questions    \n",
    "cdf = cdf.query('_golden == False')    "
   ]
  },
  {
   "cell_type": "code",
   "execution_count": 4,
   "metadata": {},
   "outputs": [
    {
     "name": "stdout",
     "output_type": "stream",
     "text": [
      "{'nannotators': 45, 'ncomments': 1000}\n"
     ]
    }
   ],
   "source": [
    "# Annotation info\n",
    "annotation_info = {}\n",
    "annotation_info['nannotators'] = len(cdf['_worker_id'].unique())\n",
    "annotation_info['ncomments'] = cdf['comment_counter'].unique().shape[0]\n",
    "print(annotation_info)"
   ]
  },
  {
   "cell_type": "code",
   "execution_count": 6,
   "metadata": {
    "collapsed": true
   },
   "outputs": [],
   "source": [
    "# Relevant columns \n",
    "unit_id_col = ['_unit_id']\n",
    "meta_cols = ['article_author', 'article_id', 'article_published_date',\n",
    "       'article_text', 'article_title', 'article_url', 'comment_author',\n",
    "       'comment_counter', 'comment_text']\n",
    "binary_attributes = ['agree', 'constructive']\n",
    "nominal_attributes = ['constructive_characteristics', 'non_constructive_characteristics']\n",
    "text_attributes = ['crowd_comments', 'other_con_chars', 'other_noncon_chars']"
   ]
  },
  {
   "cell_type": "code",
   "execution_count": 8,
   "metadata": {},
   "outputs": [],
   "source": [
    "# Replace text values with numerical values in the dataframe\n",
    "attrs = cdf[binary_attributes].replace(['yes', 'no', 'partially', 'not_sure', 'noopinion'], [1, 0, 0.5, 0.5, np.nan])\n",
    "other_cols = unit_id_col + meta_cols + nominal_attributes + text_attributes\n",
    "cdf = cdf[other_cols].join(attrs)"
   ]
  },
  {
   "cell_type": "code",
   "execution_count": 9,
   "metadata": {
    "collapsed": true
   },
   "outputs": [],
   "source": [
    "# aggregation method for characteristics\n",
    "def list_and_sort(vals):\n",
    "    cnt = Counter()\n",
    "    all_vals = []\n",
    "    for v in vals: \n",
    "        all_vals.extend(v.split())\n",
    "    for val in all_vals:\n",
    "        val = val.strip()\n",
    "        cnt[val] += 1\n",
    "    L = cnt.most_common()\n",
    "    #print('L:', L)\n",
    "    L1 = [key + ':' + str(freq) for (key, freq) in L] \n",
    "    #L = sorted(cnt, key=cnt.get, reverse=True)\n",
    "    return '\\n'.join(L1)"
   ]
  },
  {
   "cell_type": "code",
   "execution_count": 32,
   "metadata": {},
   "outputs": [],
   "source": [
    "# aggregation method for text attributes\n",
    "def concatenate(vals):\n",
    "    L = []\n",
    "    for val in vals:\n",
    "        if type(val) != str and math.isnan(val):\n",
    "            L.append('')\n",
    "        else:\n",
    "            L.append(str(val))\n",
    "            \n",
    "    return \"\\n\".join(L)"
   ]
  },
  {
   "cell_type": "code",
   "execution_count": 33,
   "metadata": {
    "collapsed": true
   },
   "outputs": [],
   "source": [
    "# agreegation method for each class of attributes\n",
    "binary_dict = {k: 'mean' for k in binary_attributes}\n",
    "meta_dict = {k: 'first' for k in meta_cols}\n",
    "nominal_dict = {k: list_and_sort for k in nominal_attributes}\n",
    "text_dict = {k: concatenate for k in text_attributes}"
   ]
  },
  {
   "cell_type": "code",
   "execution_count": 34,
   "metadata": {
    "collapsed": true
   },
   "outputs": [],
   "source": [
    "agg_dict = {**binary_dict, **meta_dict, **nominal_dict, **text_dict}"
   ]
  },
  {
   "cell_type": "code",
   "execution_count": 40,
   "metadata": {},
   "outputs": [
    {
     "name": "stdout",
     "output_type": "stream",
     "text": [
      "Index(['agree', 'constructive', 'article_author', 'article_id',\n",
      "       'article_published_date', 'article_text', 'article_title',\n",
      "       'article_url', 'comment_author', 'comment_counter', 'comment_text',\n",
      "       'constructive_characteristics', 'non_constructive_characteristics',\n",
      "       'crowd_comments', 'other_con_chars', 'other_noncon_chars'],\n",
      "      dtype='object')\n"
     ]
    }
   ],
   "source": [
    "# Aggregate the results for all workers on a particular comment\n",
    "aggregated_df = cdf.groupby('_unit_id').agg(agg_dict)\n",
    "aggregated_df['constructive'] = aggregated_df['constructive'].apply(pd.to_numeric)\n",
    "print(aggregated_df.columns)"
   ]
  },
  {
   "cell_type": "code",
   "execution_count": 41,
   "metadata": {
    "collapsed": true
   },
   "outputs": [],
   "source": [
    "# relevant columns\n",
    "cols = (['article_id', 'article_author', 'article_published_date', 'article_text', 'article_title',\n",
    "   'article_url', 'comment_author', 'comment_counter', 'comment_text', 'agree', 'constructive', \n",
    "   'constructive_characteristics', 'non_constructive_characteristics', 'other_con_chars', \n",
    "   'other_noncon_chars', 'crowd_comments'])"
   ]
  },
  {
   "cell_type": "code",
   "execution_count": 42,
   "metadata": {
    "collapsed": true
   },
   "outputs": [],
   "source": [
    "# Write the aggregated csv\n",
    "aggregated_df.to_csv('../CF_output/Batch2_1000/f1269916_constructiveness_aggregated.csv', columns = cols, index = False)"
   ]
  },
  {
   "cell_type": "code",
   "execution_count": 45,
   "metadata": {
    "collapsed": true
   },
   "outputs": [],
   "source": [
    "# Returns a sorted dataframe of comments on constructiveness score\n",
    "def sort_comments(df, field, ascending = False, num = 10):\n",
    "    return df.sort_values(by = field, ascending=ascending).head(10)[['comment_text', field]]"
   ]
  },
  {
   "cell_type": "code",
   "execution_count": 47,
   "metadata": {},
   "outputs": [
    {
     "data": {
      "text/html": [
       "<div>\n",
       "<style>\n",
       "    .dataframe thead tr:only-child th {\n",
       "        text-align: right;\n",
       "    }\n",
       "\n",
       "    .dataframe thead th {\n",
       "        text-align: left;\n",
       "    }\n",
       "\n",
       "    .dataframe tbody tr th {\n",
       "        vertical-align: top;\n",
       "    }\n",
       "</style>\n",
       "<table border=\"1\" class=\"dataframe\">\n",
       "  <thead>\n",
       "    <tr style=\"text-align: right;\">\n",
       "      <th></th>\n",
       "      <th>comment_text</th>\n",
       "      <th>constructive</th>\n",
       "    </tr>\n",
       "    <tr>\n",
       "      <th>_unit_id</th>\n",
       "      <th></th>\n",
       "      <th></th>\n",
       "    </tr>\n",
       "  </thead>\n",
       "  <tbody>\n",
       "    <tr>\n",
       "      <th>1740685938</th>\n",
       "      <td>The laws are worse than the drug.</td>\n",
       "      <td>0.0</td>\n",
       "    </tr>\n",
       "    <tr>\n",
       "      <th>1740686033</th>\n",
       "      <td>Slow down there Sarah, not quite sure if you'r...</td>\n",
       "      <td>0.0</td>\n",
       "    </tr>\n",
       "    <tr>\n",
       "      <th>1740685581</th>\n",
       "      <td>Globe and Mail endorses conservatives. Quelle ...</td>\n",
       "      <td>0.0</td>\n",
       "    </tr>\n",
       "    <tr>\n",
       "      <th>1740686028</th>\n",
       "      <td>yes, Avi. Destroying our economy will certainl...</td>\n",
       "      <td>0.0</td>\n",
       "    </tr>\n",
       "    <tr>\n",
       "      <th>1740686021</th>\n",
       "      <td>'''Avi Lewis is a journalist, filmmaker,.........</td>\n",
       "      <td>0.0</td>\n",
       "    </tr>\n",
       "    <tr>\n",
       "      <th>1740686019</th>\n",
       "      <td>Dozens of people wrote it--and millions oppose...</td>\n",
       "      <td>0.0</td>\n",
       "    </tr>\n",
       "    <tr>\n",
       "      <th>1740686014</th>\n",
       "      <td>No interest in hanging out with you.</td>\n",
       "      <td>0.0</td>\n",
       "    </tr>\n",
       "    <tr>\n",
       "      <th>1740686012</th>\n",
       "      <td>Discriminatory quotas are the problem, not the...</td>\n",
       "      <td>0.0</td>\n",
       "    </tr>\n",
       "    <tr>\n",
       "      <th>1740686010</th>\n",
       "      <td>Get serious girl!</td>\n",
       "      <td>0.0</td>\n",
       "    </tr>\n",
       "    <tr>\n",
       "      <th>1740686009</th>\n",
       "      <td>It's reassuring to know, they were also the mo...</td>\n",
       "      <td>0.0</td>\n",
       "    </tr>\n",
       "  </tbody>\n",
       "</table>\n",
       "</div>"
      ],
      "text/plain": [
       "                                                 comment_text  constructive\n",
       "_unit_id                                                                   \n",
       "1740685938                  The laws are worse than the drug.           0.0\n",
       "1740686033  Slow down there Sarah, not quite sure if you'r...           0.0\n",
       "1740685581  Globe and Mail endorses conservatives. Quelle ...           0.0\n",
       "1740686028  yes, Avi. Destroying our economy will certainl...           0.0\n",
       "1740686021  '''Avi Lewis is a journalist, filmmaker,.........           0.0\n",
       "1740686019  Dozens of people wrote it--and millions oppose...           0.0\n",
       "1740686014               No interest in hanging out with you.           0.0\n",
       "1740686012  Discriminatory quotas are the problem, not the...           0.0\n",
       "1740686010                                  Get serious girl!           0.0\n",
       "1740686009  It's reassuring to know, they were also the mo...           0.0"
      ]
     },
     "execution_count": 47,
     "metadata": {},
     "output_type": "execute_result"
    }
   ],
   "source": [
    "sort_comments(aggregated_df, 'constructive', ascending=True)"
   ]
  }
 ],
 "metadata": {
  "kernelspec": {
   "display_name": "Python 3",
   "language": "python",
   "name": "python3"
  },
  "language_info": {
   "codemirror_mode": {
    "name": "ipython",
    "version": 3
   },
   "file_extension": ".py",
   "mimetype": "text/x-python",
   "name": "python",
   "nbconvert_exporter": "python",
   "pygments_lexer": "ipython3",
   "version": "3.6.1"
  }
 },
 "nbformat": 4,
 "nbformat_minor": 2
}
