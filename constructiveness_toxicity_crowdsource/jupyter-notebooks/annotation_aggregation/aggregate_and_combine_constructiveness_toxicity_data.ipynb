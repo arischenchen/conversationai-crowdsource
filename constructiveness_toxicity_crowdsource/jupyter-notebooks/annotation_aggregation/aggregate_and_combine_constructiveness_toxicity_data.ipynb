{
 "cells": [
  {
   "cell_type": "code",
   "execution_count": 30,
   "metadata": {
    "collapsed": true
   },
   "outputs": [],
   "source": [
    "import sys\n",
    "sys.path.append('../../common/')\n",
    "import pandas as pd\n",
    "from functools import reduce"
   ]
  },
  {
   "cell_type": "code",
   "execution_count": 31,
   "metadata": {
    "collapsed": true
   },
   "outputs": [],
   "source": [
    "from crowddata_aggregator import CrowdsourceAggregator"
   ]
  },
  {
   "cell_type": "code",
   "execution_count": 32,
   "metadata": {
    "collapsed": true
   },
   "outputs": [],
   "source": [
    "batch = '5'"
   ]
  },
  {
   "cell_type": "markdown",
   "metadata": {},
   "source": [
    "# Aggregate constructiveness annotations"
   ]
  },
  {
   "cell_type": "code",
   "execution_count": 33,
   "metadata": {
    "collapsed": true
   },
   "outputs": [],
   "source": [
    "# set paths for crowd annotated files\n",
    "constructiveness_path = '../../CF_output/constructiveness/'\n",
    "#crowd_annotations_full = 'batch3_f1271448.csv'\n",
    "#crowd_annotations_full = 'batch4_f1281982.csv'\n",
    "crowd_annotations_full = 'batch5_f1282373.csv'\n",
    "#crowd_annotations_full = 'batch6_f1283092.csv'\n",
    "input_csv = constructiveness_path + crowd_annotations_full"
   ]
  },
  {
   "cell_type": "code",
   "execution_count": 34,
   "metadata": {
    "collapsed": true
   },
   "outputs": [],
   "source": [
    "# Create a CrowdAggregator object\n",
    "constructiveness_aggregator = CrowdsourceAggregator(input_csv)"
   ]
  },
  {
   "cell_type": "code",
   "execution_count": 35,
   "metadata": {
    "collapsed": true
   },
   "outputs": [],
   "source": [
    "# Dataframe with only non gold questions. \n",
    "constructiveness_df = constructiveness_aggregator.get_non_gold_questions()"
   ]
  },
  {
   "cell_type": "code",
   "execution_count": 36,
   "metadata": {
    "collapsed": true
   },
   "outputs": [],
   "source": [
    "# Set attributes\n",
    "attribs = {}\n",
    "# set attributes \n",
    "attribs['unit_id_col'] = ['_unit_id']\n",
    "attribs['meta_cols'] = ['article_author', 'article_id', 'article_published_date',\n",
    "       'article_text', 'article_title', 'article_url', 'comment_author',\n",
    "       'comment_counter', 'comment_text','constructive_gold']\n",
    "attribs['avg_cols'] = ['agree', 'constructive']\n",
    "attribs['nominal_cols'] = ['constructive_characteristics', 'non_constructive_characteristics']\n",
    "attribs['text_cols'] = ['crowd_comments', 'other_con_chars', 'other_noncon_chars']"
   ]
  },
  {
   "cell_type": "code",
   "execution_count": 37,
   "metadata": {
    "collapsed": true
   },
   "outputs": [],
   "source": [
    "# Get aggregated data\n",
    "constructiveness_aggregated_df = constructiveness_aggregator.aggregate_annotations(constructiveness_df, attribs)"
   ]
  },
  {
   "cell_type": "code",
   "execution_count": 38,
   "metadata": {
    "collapsed": true
   },
   "outputs": [],
   "source": [
    "# Rename some of the columns\n",
    "constructiveness_aggregated_df.rename(columns = {'agree':'agree_constructiveness_expt', \n",
    "                                                 'crowd_comments':'crowd_comments_constructiveness_expt',\n",
    "                                                 'constructive_gold':'constructive_internal_gold'\n",
    "                                                }, inplace=True)"
   ]
  },
  {
   "cell_type": "code",
   "execution_count": 39,
   "metadata": {
    "collapsed": true
   },
   "outputs": [],
   "source": [
    "# Relevant columns\n",
    "cols = (['article_id', 'article_author', 'article_published_date', 'article_text', 'article_title',\n",
    "   'article_url', 'comment_author', 'comment_counter', 'comment_text', 'agree_constructiveness_expt', 'constructive' , \n",
    "   'constructive_internal_gold', \n",
    "   'constructive_characteristics', 'non_constructive_characteristics', 'other_con_chars', \n",
    "   'other_noncon_chars', 'crowd_comments_constructiveness_expt'])"
   ]
  },
  {
   "cell_type": "markdown",
   "metadata": {},
   "source": [
    "## Write aggregated contructiveness CSV "
   ]
  },
  {
   "cell_type": "code",
   "execution_count": 40,
   "metadata": {},
   "outputs": [
    {
     "name": "stdout",
     "output_type": "stream",
     "text": [
      "CSV written:  ../../CF_output/constructiveness/batch5_f1282373_aggregated.csv\n"
     ]
    }
   ],
   "source": [
    "constructiveness_aggregator.write_csv(constructiveness_aggregated_df, cols, input_csv.rstrip('.csv') +'_aggregated.csv')"
   ]
  },
  {
   "cell_type": "markdown",
   "metadata": {},
   "source": [
    "# Aggregate toxicity annotations"
   ]
  },
  {
   "cell_type": "code",
   "execution_count": 41,
   "metadata": {
    "collapsed": true
   },
   "outputs": [],
   "source": [
    "# Read toxicity annotations csv\n",
    "toxicity_path = '../../CF_output/toxicity/'\n",
    "#crowd_annotations_full = 'batch3_f1271451.csv'\n",
    "#crowd_annotations_full = 'batch4_f1281988.csv'\n",
    "crowd_annotations_full = 'batch5_f1282494.csv'\n",
    "#crowd_annotations_full = 'batch6_f1283093.csv'\n",
    "input_csv = toxicity_path + crowd_annotations_full"
   ]
  },
  {
   "cell_type": "code",
   "execution_count": 42,
   "metadata": {
    "collapsed": true
   },
   "outputs": [],
   "source": [
    "# Create a CrowdAggregator object\n",
    "toxicity_aggregator = CrowdsourceAggregator(input_csv)"
   ]
  },
  {
   "cell_type": "code",
   "execution_count": 43,
   "metadata": {
    "collapsed": true
   },
   "outputs": [],
   "source": [
    "# Dataframe with only non gold questions. \n",
    "toxicity_df = toxicity_aggregator.get_non_gold_questions()"
   ]
  },
  {
   "cell_type": "code",
   "execution_count": 44,
   "metadata": {
    "collapsed": true
   },
   "outputs": [],
   "source": [
    "# Set attributes\n",
    "attribs = {}\n",
    "# set attributes \n",
    "attribs['unit_id_col'] = ['_unit_id']\n",
    "attribs['meta_cols'] = ['article_author', 'article_id', 'article_published_date',\n",
    "       'article_text', 'article_title', 'article_url', 'comment_author',\n",
    "       'comment_counter', 'comment_text', 'crowd_toxicity_level_gold']\n",
    "attribs['avg_cols'] = ['agree', 'crowd_toxicity_level']\n",
    "attribs['nominal_cols'] = ['toxicity_characteristics']\n",
    "attribs['text_cols'] = ['crowd_comments', 'other_toxic_chars', 'crowd_discard', 'expert_has_content']    "
   ]
  },
  {
   "cell_type": "code",
   "execution_count": 45,
   "metadata": {
    "collapsed": true
   },
   "outputs": [],
   "source": [
    "# Get aggregated data\n",
    "toxicity_aggregated_df = toxicity_aggregator.aggregate_annotations(toxicity_df, attribs)"
   ]
  },
  {
   "cell_type": "code",
   "execution_count": 46,
   "metadata": {},
   "outputs": [
    {
     "data": {
      "text/plain": [
       "Index(['agree', 'crowd_toxicity_level', 'article_author', 'article_id',\n",
       "       'article_published_date', 'article_text', 'article_title',\n",
       "       'article_url', 'comment_author', 'comment_counter', 'comment_text',\n",
       "       'crowd_toxicity_level_gold', 'toxicity_characteristics',\n",
       "       'crowd_comments', 'other_toxic_chars', 'crowd_discard',\n",
       "       'expert_has_content'],\n",
       "      dtype='object')"
      ]
     },
     "execution_count": 46,
     "metadata": {},
     "output_type": "execute_result"
    }
   ],
   "source": [
    "toxicity_aggregated_df.columns"
   ]
  },
  {
   "cell_type": "code",
   "execution_count": 47,
   "metadata": {
    "collapsed": true
   },
   "outputs": [],
   "source": [
    "# Rename some of the columns\n",
    "toxicity_aggregated_df.rename(columns = {'expert_has_content':'has_content', \n",
    "                                         'agree':'agree_toxicity_expt', \n",
    "                                         'crowd_comments':'crowd_comments_toxicity_expt',\n",
    "                                         'crowd_toxicity_level_gold':'crowd_toxicity_level_internal_gold'\n",
    "                                        }, inplace=True)"
   ]
  },
  {
   "cell_type": "code",
   "execution_count": 48,
   "metadata": {
    "collapsed": true
   },
   "outputs": [],
   "source": [
    "# relevant columns\n",
    "cols = (['article_id', 'article_author', 'article_published_date', 'article_text', 'article_title',\n",
    "   'article_url', 'comment_author', 'comment_counter', 'comment_text', 'agree_toxicity_expt', 'crowd_toxicity_level', \n",
    "   'crowd_toxicity_level_internal_gold','has_content', 'crowd_discard',\n",
    "   'toxicity_characteristics', 'other_toxic_chars', 'crowd_comments_toxicity_expt'])"
   ]
  },
  {
   "cell_type": "markdown",
   "metadata": {},
   "source": [
    "## Write aggregated contructiveness CSV "
   ]
  },
  {
   "cell_type": "code",
   "execution_count": 49,
   "metadata": {},
   "outputs": [
    {
     "name": "stdout",
     "output_type": "stream",
     "text": [
      "CSV written:  ../../CF_output/toxicity/batch5_f1282494_aggregated.csv\n"
     ]
    }
   ],
   "source": [
    "toxicity_aggregator.write_csv(toxicity_aggregated_df, cols, input_csv.rstrip('.csv') +'_aggregated.csv')"
   ]
  },
  {
   "cell_type": "markdown",
   "metadata": {},
   "source": [
    "## Combine constructiveness and toxicity annotations"
   ]
  },
  {
   "cell_type": "code",
   "execution_count": 50,
   "metadata": {
    "collapsed": true
   },
   "outputs": [],
   "source": [
    "dfs = [constructiveness_aggregated_df, toxicity_aggregated_df]"
   ]
  },
  {
   "cell_type": "code",
   "execution_count": 51,
   "metadata": {
    "collapsed": true
   },
   "outputs": [],
   "source": [
    "df_merged = reduce(lambda left,right: pd.merge(left,right,on=['article_id', 'article_author', 'article_published_date',\n",
    "        'article_title', 'article_url', 'article_text',\n",
    "       'comment_author', 'comment_counter', 'comment_text'], how='outer'), dfs)"
   ]
  },
  {
   "cell_type": "code",
   "execution_count": 52,
   "metadata": {
    "collapsed": true
   },
   "outputs": [],
   "source": [
    "# Sort the merged dataframe on constructiveness and toxicity\n",
    "df_sorted = df_merged.sort_values(by=['constructive', 'crowd_toxicity_level'], ascending = False)"
   ]
  },
  {
   "cell_type": "code",
   "execution_count": 53,
   "metadata": {
    "collapsed": true
   },
   "outputs": [],
   "source": [
    "# Relevant columns\n",
    "cols = (['article_id', 'article_author', 'article_published_date',\n",
    "        'article_title', 'article_url', 'article_text',\n",
    "       'comment_author', 'comment_counter', 'comment_text',\n",
    "       'agree_constructiveness_expt', 'agree_toxicity_expt', 'constructive', 'constructive_internal_gold', \n",
    "       'crowd_toxicity_level', 'crowd_toxicity_level_internal_gold',\n",
    "       'has_content', 'crowd_discard',  \n",
    "       'constructive_characteristics', 'non_constructive_characteristics',\n",
    "       'toxicity_characteristics',                 \n",
    "       'crowd_comments_constructiveness_expt', \n",
    "       'crowd_comments_toxicity_expt',\n",
    "       'other_con_chars', 'other_noncon_chars', 'other_toxic_chars'         \n",
    "        ])"
   ]
  },
  {
   "cell_type": "markdown",
   "metadata": {},
   "source": [
    "## Write contructiveness and toxicity combined CSV "
   ]
  },
  {
   "cell_type": "code",
   "execution_count": 54,
   "metadata": {
    "collapsed": true
   },
   "outputs": [],
   "source": [
    "output_dir = '../../CF_output/combined/'"
   ]
  },
  {
   "cell_type": "code",
   "execution_count": 55,
   "metadata": {
    "collapsed": true
   },
   "outputs": [],
   "source": [
    "df_sorted.to_csv( output_dir + 'batch' + str(batch) + '_constructiveness_and_toxicity_combined.csv', columns = cols, index = False)"
   ]
  },
  {
   "cell_type": "code",
   "execution_count": null,
   "metadata": {
    "collapsed": true
   },
   "outputs": [],
   "source": []
  }
 ],
 "metadata": {
  "kernelspec": {
   "display_name": "Python 3",
   "language": "python",
   "name": "python3"
  },
  "language_info": {
   "codemirror_mode": {
    "name": "ipython",
    "version": 3
   },
   "file_extension": ".py",
   "mimetype": "text/x-python",
   "name": "python",
   "nbconvert_exporter": "python",
   "pygments_lexer": "ipython3",
   "version": "3.6.1"
  }
 },
 "nbformat": 4,
 "nbformat_minor": 2
}
