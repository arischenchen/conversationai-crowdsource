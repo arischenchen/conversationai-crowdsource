{
 "cells": [
  {
   "cell_type": "code",
   "execution_count": 1,
   "metadata": {
    "collapsed": true
   },
   "outputs": [],
   "source": [
    "import pandas as pd\n",
    "import numpy as np\n",
    "from collections import OrderedDict, Counter\n",
    "import math"
   ]
  },
  {
   "cell_type": "code",
   "execution_count": 2,
   "metadata": {
    "collapsed": true
   },
   "outputs": [],
   "source": [
    "# Read constructiveness annotations csv\n",
    "tdf = pd.read_csv('../CF_output/Batch2_1000/f1270155_toxicity.csv')"
   ]
  },
  {
   "cell_type": "code",
   "execution_count": 3,
   "metadata": {
    "collapsed": true
   },
   "outputs": [],
   "source": [
    "# Remove test questions    \n",
    "tdf = tdf.query('_golden == False')    "
   ]
  },
  {
   "cell_type": "code",
   "execution_count": 4,
   "metadata": {},
   "outputs": [
    {
     "name": "stdout",
     "output_type": "stream",
     "text": [
      "{'nannotators': 55, 'ncomments': 1001}\n"
     ]
    }
   ],
   "source": [
    "# Annotation info\n",
    "annotation_info = {}\n",
    "annotation_info['nannotators'] = len(tdf['_worker_id'].unique())\n",
    "annotation_info['ncomments'] = tdf['comment_counter'].unique().shape[0]\n",
    "print(annotation_info)"
   ]
  },
  {
   "cell_type": "code",
   "execution_count": 5,
   "metadata": {},
   "outputs": [
    {
     "data": {
      "text/plain": [
       "Index(['_unit_id', '_created_at', '_golden', '_id', '_missed', '_started_at',\n",
       "       '_tainted', '_channel', '_trust', '_worker_id', '_country', '_region',\n",
       "       '_city', '_ip', 'agree', 'crowd_comments', 'crowd_discard',\n",
       "       'crowd_toxicity_level', 'expert_has_content', 'other_toxic_chars',\n",
       "       'toxicity_characteristics', 'orig__golden', 'agree_gold',\n",
       "       'article_author', 'article_id', 'article_published_date',\n",
       "       'article_text', 'article_title', 'article_url', 'comment_author',\n",
       "       'comment_counter', 'comment_text', 'crowd_comments_gold',\n",
       "       'crowd_discard_gold', 'crowd_toxicity_level_gold',\n",
       "       'crowd_toxicity_level_gold_reason', 'expert_has_content_gold',\n",
       "       'other_toxic_chars_gold', 'toxicity_characteristics_gold'],\n",
       "      dtype='object')"
      ]
     },
     "execution_count": 5,
     "metadata": {},
     "output_type": "execute_result"
    }
   ],
   "source": [
    "tdf.columns"
   ]
  },
  {
   "cell_type": "code",
   "execution_count": 6,
   "metadata": {
    "collapsed": true
   },
   "outputs": [],
   "source": [
    "# Relevant columns \n",
    "unit_id_col = ['_unit_id']\n",
    "meta_cols = ['article_author', 'article_id', 'article_published_date',\n",
    "       'article_text', 'article_title', 'article_url', 'comment_author',\n",
    "       'comment_counter', 'comment_text']\n",
    "binary_attributes = ['agree']\n",
    "nominal_attributes = ['toxicity_characteristics']\n",
    "rating_attributes = ['crowd_toxicity_level']\n",
    "text_attributes = ['crowd_comments', 'other_toxic_chars', 'crowd_discard', 'expert_has_content']    "
   ]
  },
  {
   "cell_type": "code",
   "execution_count": 7,
   "metadata": {},
   "outputs": [],
   "source": [
    "# Replace text values with numerical values in the dataframe\n",
    "attrs = tdf[binary_attributes].replace(['yes', 'no', 'partially', 'not_sure', 'noopinion'], [1, 0, 0.5, 0.5, np.nan])\n",
    "other_cols = unit_id_col + meta_cols + nominal_attributes + rating_attributes + text_attributes\n",
    "tdf = tdf[other_cols].join(attrs)"
   ]
  },
  {
   "cell_type": "code",
   "execution_count": 8,
   "metadata": {
    "collapsed": true
   },
   "outputs": [],
   "source": [
    "# aggregation method for characteristics\n",
    "def list_and_sort(vals):\n",
    "    cnt = Counter()\n",
    "    all_vals = []\n",
    "    for v in vals: \n",
    "        all_vals.extend(v.split())\n",
    "    for val in all_vals:\n",
    "        val = val.strip()\n",
    "        cnt[val] += 1\n",
    "    L = cnt.most_common()\n",
    "    #print('L:', L)\n",
    "    L1 = [key + ':' + str(freq) for (key, freq) in L] \n",
    "    #L = sorted(cnt, key=cnt.get, reverse=True)\n",
    "    return '\\n'.join(L1)"
   ]
  },
  {
   "cell_type": "code",
   "execution_count": 9,
   "metadata": {
    "collapsed": true
   },
   "outputs": [],
   "source": [
    "# aggregation method for text attributes\n",
    "def concatenate(vals):\n",
    "    L = []\n",
    "    for val in vals:\n",
    "        if type(val) != str and math.isnan(val):\n",
    "            L.append('')\n",
    "        else:\n",
    "            L.append(str(val))\n",
    "            \n",
    "    return \"\\n\".join(L)"
   ]
  },
  {
   "cell_type": "code",
   "execution_count": 10,
   "metadata": {
    "collapsed": true
   },
   "outputs": [],
   "source": [
    "# agreegation method for each class of attributes\n",
    "binary_dict = {k: 'mean' for k in binary_attributes}\n",
    "meta_dict = {k: 'first' for k in meta_cols}\n",
    "nominal_dict = {k: list_and_sort for k in nominal_attributes}\n",
    "rating_dict = {k: 'mean' for k in rating_attributes}\n",
    "text_dict = {k: concatenate for k in text_attributes}"
   ]
  },
  {
   "cell_type": "code",
   "execution_count": 11,
   "metadata": {
    "collapsed": true
   },
   "outputs": [],
   "source": [
    "agg_dict = {**binary_dict, **meta_dict, **nominal_dict, **rating_dict, **text_dict}"
   ]
  },
  {
   "cell_type": "code",
   "execution_count": 18,
   "metadata": {},
   "outputs": [
    {
     "name": "stdout",
     "output_type": "stream",
     "text": [
      "Index(['agree', 'article_author', 'article_id', 'article_published_date',\n",
      "       'article_text', 'article_title', 'article_url', 'comment_author',\n",
      "       'comment_counter', 'comment_text', 'toxicity_characteristics',\n",
      "       'crowd_toxicity_level', 'crowd_comments', 'other_toxic_chars',\n",
      "       'crowd_discard', 'expert_has_content'],\n",
      "      dtype='object')\n"
     ]
    }
   ],
   "source": [
    "# Aggregate the results for all workers on a particular comment\n",
    "aggregated_df = tdf.groupby('_unit_id').agg(agg_dict)\n",
    "print(aggregated_df.columns)"
   ]
  },
  {
   "cell_type": "code",
   "execution_count": 20,
   "metadata": {
    "collapsed": true
   },
   "outputs": [],
   "source": [
    "aggregated_df.rename(columns = {'expert_has_content':'has_content'}, inplace=True)"
   ]
  },
  {
   "cell_type": "code",
   "execution_count": 21,
   "metadata": {},
   "outputs": [
    {
     "data": {
      "text/plain": [
       "_unit_id\n",
       "1741535932               \\n\\nyes\\nyes\\n\n",
       "1741535933                     \\n\\n\\n\\n\n",
       "1741535934                     \\n\\n\\n\\n\n",
       "1741535935            \\nno\\nno\\nyes\\nno\n",
       "1741535936                  \\n\\n\\n\\nyes\n",
       "1741535937                     \\n\\n\\n\\n\n",
       "1741535938       yes\\nno\\nyes\\nyes\\nyes\n",
       "1741535939                     \\n\\n\\n\\n\n",
       "1741535940               yes\\n\\n\\n\\nyes\n",
       "1741535941                     \\n\\n\\n\\n\n",
       "1741535942                  \\n\\n\\n\\nyes\n",
       "1741535943                     \\n\\n\\n\\n\n",
       "1741535944         no\\nyes\\nno\\nno\\nyes\n",
       "1741535945                     \\n\\n\\n\\n\n",
       "1741535946                     \\n\\n\\n\\n\n",
       "1741535947                     \\n\\n\\n\\n\n",
       "1741535948                     \\n\\n\\n\\n\n",
       "1741535949               no\\n\\nno\\nno\\n\n",
       "1741535950                     \\n\\n\\n\\n\n",
       "1741535951                     \\n\\n\\n\\n\n",
       "1741535952            yes\\n\\n\\nyes\\nyes\n",
       "1741535953                     \\n\\n\\n\\n\n",
       "1741535954                     \\n\\n\\n\\n\n",
       "1741535955                     \\n\\n\\n\\n\n",
       "1741535956                \\n\\nyes\\nno\\n\n",
       "1741535957                     \\n\\n\\n\\n\n",
       "1741535958         yes\\n\\nyes\\nyes\\nyes\n",
       "1741535959                  \\n\\nyes\\n\\n\n",
       "1741535960                \\nno\\n\\nyes\\n\n",
       "1741535961                     \\n\\n\\n\\n\n",
       "                        ...            \n",
       "1741536919      yes\\nyes\\nyes\\nyes\\nyes\n",
       "1741536920                \\n\\nno\\n\\nyes\n",
       "1741536921         yes\\nyes\\nyes\\nyes\\n\n",
       "1741536922              no\\n\\nyes\\nno\\n\n",
       "1741536923                  \\nyes\\n\\n\\n\n",
       "1741536924                \\nyes\\nno\\n\\n\n",
       "1741536925                  \\n\\nyes\\n\\n\n",
       "1741536926                     \\n\\n\\n\\n\n",
       "1741536927                   \\n\\n\\nno\\n\n",
       "1741536928           yes\\nno\\nyes\\n\\nno\n",
       "1741536929                  yes\\n\\n\\n\\n\n",
       "1741536930                   \\nno\\n\\n\\n\n",
       "1741536931                \\nno\\nyes\\n\\n\n",
       "1741536932        not_sure\\n\\nyes\\nno\\n\n",
       "1741536933          yes\\nyes\\nyes\\nno\\n\n",
       "1741536934       yes\\nyes\\nno\\nyes\\nyes\n",
       "1741536935            yes\\n\\nno\\nno\\nno\n",
       "1741536936               yes\\n\\n\\n\\nyes\n",
       "1741536937                  yes\\n\\n\\n\\n\n",
       "1741536938               yes\\n\\n\\n\\nyes\n",
       "1741536939                     \\n\\n\\n\\n\n",
       "1741536940    yes\\nno\\nnot_sure\\nno\\nno\n",
       "1741536941               \\nyes\\n\\nyes\\n\n",
       "1741536942               yes\\nyes\\n\\n\\n\n",
       "1741536943          \\nyes\\nyes\\nyes\\nno\n",
       "1741536944        yes\\nyes\\nyes\\nno\\nno\n",
       "1741536945         no\\nno\\nyes\\nno\\nyes\n",
       "1741536946                   no\\n\\n\\n\\n\n",
       "1741536947        no\\nyes\\nno\\nyes\\nyes\n",
       "1741537363                             \n",
       "Name: has_content, Length: 1001, dtype: object"
      ]
     },
     "execution_count": 21,
     "metadata": {},
     "output_type": "execute_result"
    }
   ],
   "source": [
    "aggregated_df['has_content']"
   ]
  },
  {
   "cell_type": "code",
   "execution_count": 22,
   "metadata": {
    "collapsed": true
   },
   "outputs": [],
   "source": [
    "# relevant columns\n",
    "cols = (['article_id', 'article_author', 'article_published_date', 'article_text', 'article_title',\n",
    "   'article_url', 'comment_author', 'comment_counter', 'comment_text', 'agree', 'crowd_toxicity_level', \n",
    "   'has_content', 'crowd_discard',\n",
    "   'toxicity_characteristics', 'other_toxic_chars', 'crowd_comments'])"
   ]
  },
  {
   "cell_type": "code",
   "execution_count": 23,
   "metadata": {
    "collapsed": true
   },
   "outputs": [],
   "source": [
    "# Write the aggregated csv\n",
    "aggregated_df.to_csv('../CF_output/Batch2_1000/f1270155_toxicity_aggregated.csv', columns = cols, index = False)"
   ]
  },
  {
   "cell_type": "code",
   "execution_count": 18,
   "metadata": {
    "collapsed": true
   },
   "outputs": [],
   "source": [
    "# Returns a sorted dataframe of comments on an attribute\n",
    "def sort_comments(df, field, ascending = False, num = 10):\n",
    "    return df.sort_values(by = field, ascending=ascending).head(10)[['comment_text', field]]"
   ]
  },
  {
   "cell_type": "code",
   "execution_count": 20,
   "metadata": {},
   "outputs": [
    {
     "data": {
      "text/html": [
       "<div>\n",
       "<style>\n",
       "    .dataframe thead tr:only-child th {\n",
       "        text-align: right;\n",
       "    }\n",
       "\n",
       "    .dataframe thead th {\n",
       "        text-align: left;\n",
       "    }\n",
       "\n",
       "    .dataframe tbody tr th {\n",
       "        vertical-align: top;\n",
       "    }\n",
       "</style>\n",
       "<table border=\"1\" class=\"dataframe\">\n",
       "  <thead>\n",
       "    <tr style=\"text-align: right;\">\n",
       "      <th></th>\n",
       "      <th>comment_text</th>\n",
       "      <th>crowd_toxicity_level</th>\n",
       "    </tr>\n",
       "    <tr>\n",
       "      <th>_unit_id</th>\n",
       "      <th></th>\n",
       "      <th></th>\n",
       "    </tr>\n",
       "  </thead>\n",
       "  <tbody>\n",
       "    <tr>\n",
       "      <th>1741536176</th>\n",
       "      <td>Stupid, stupid, stupid.</td>\n",
       "      <td>3.8</td>\n",
       "    </tr>\n",
       "    <tr>\n",
       "      <th>1741536180</th>\n",
       "      <td>Are you ossholes focking batshot ?Get off the ...</td>\n",
       "      <td>3.6</td>\n",
       "    </tr>\n",
       "    <tr>\n",
       "      <th>1741536874</th>\n",
       "      <td>F(*k you Pierre Poutine!</td>\n",
       "      <td>3.6</td>\n",
       "    </tr>\n",
       "    <tr>\n",
       "      <th>1741536603</th>\n",
       "      <td>Yakabuski greatly minimizes and often ignores ...</td>\n",
       "      <td>3.6</td>\n",
       "    </tr>\n",
       "    <tr>\n",
       "      <th>1741535980</th>\n",
       "      <td>Just more bluster from our cowardly, bullying ...</td>\n",
       "      <td>3.6</td>\n",
       "    </tr>\n",
       "    <tr>\n",
       "      <th>1741536859</th>\n",
       "      <td>Another globe editorial pretending to be upset...</td>\n",
       "      <td>3.4</td>\n",
       "    </tr>\n",
       "    <tr>\n",
       "      <th>1741536161</th>\n",
       "      <td>Pathetic... the globe stands side by side with...</td>\n",
       "      <td>3.2</td>\n",
       "    </tr>\n",
       "    <tr>\n",
       "      <th>1741536835</th>\n",
       "      <td>Such tough talk Merkle.........you 'could' be ...</td>\n",
       "      <td>3.2</td>\n",
       "    </tr>\n",
       "    <tr>\n",
       "      <th>1741536181</th>\n",
       "      <td>This has to be the most ridiculous editorial e...</td>\n",
       "      <td>3.2</td>\n",
       "    </tr>\n",
       "    <tr>\n",
       "      <th>1741536087</th>\n",
       "      <td>The Tories? You gotta be f#@%ing kidding. Who ...</td>\n",
       "      <td>3.2</td>\n",
       "    </tr>\n",
       "  </tbody>\n",
       "</table>\n",
       "</div>"
      ],
      "text/plain": [
       "                                                 comment_text  \\\n",
       "_unit_id                                                        \n",
       "1741536176                            Stupid, stupid, stupid.   \n",
       "1741536180  Are you ossholes focking batshot ?Get off the ...   \n",
       "1741536874                           F(*k you Pierre Poutine!   \n",
       "1741536603  Yakabuski greatly minimizes and often ignores ...   \n",
       "1741535980  Just more bluster from our cowardly, bullying ...   \n",
       "1741536859  Another globe editorial pretending to be upset...   \n",
       "1741536161  Pathetic... the globe stands side by side with...   \n",
       "1741536835  Such tough talk Merkle.........you 'could' be ...   \n",
       "1741536181  This has to be the most ridiculous editorial e...   \n",
       "1741536087  The Tories? You gotta be f#@%ing kidding. Who ...   \n",
       "\n",
       "            crowd_toxicity_level  \n",
       "_unit_id                          \n",
       "1741536176                   3.8  \n",
       "1741536180                   3.6  \n",
       "1741536874                   3.6  \n",
       "1741536603                   3.6  \n",
       "1741535980                   3.6  \n",
       "1741536859                   3.4  \n",
       "1741536161                   3.2  \n",
       "1741536835                   3.2  \n",
       "1741536181                   3.2  \n",
       "1741536087                   3.2  "
      ]
     },
     "execution_count": 20,
     "metadata": {},
     "output_type": "execute_result"
    }
   ],
   "source": [
    "sort_comments(aggregated_df, 'crowd_toxicity_level', ascending=False)"
   ]
  },
  {
   "cell_type": "code",
   "execution_count": null,
   "metadata": {
    "collapsed": true
   },
   "outputs": [],
   "source": []
  }
 ],
 "metadata": {
  "kernelspec": {
   "display_name": "Python 3",
   "language": "python",
   "name": "python3"
  },
  "language_info": {
   "codemirror_mode": {
    "name": "ipython",
    "version": 3
   },
   "file_extension": ".py",
   "mimetype": "text/x-python",
   "name": "python",
   "nbconvert_exporter": "python",
   "pygments_lexer": "ipython3",
   "version": "3.6.1"
  }
 },
 "nbformat": 4,
 "nbformat_minor": 2
}
