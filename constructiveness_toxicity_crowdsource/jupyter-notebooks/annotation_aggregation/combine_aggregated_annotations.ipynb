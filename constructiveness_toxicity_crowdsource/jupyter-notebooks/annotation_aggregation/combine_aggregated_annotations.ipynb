{
 "cells": [
  {
   "cell_type": "code",
   "execution_count": 23,
   "metadata": {
    "collapsed": true
   },
   "outputs": [],
   "source": [
    "import pandas as pd\n",
    "from functools import reduce"
   ]
  },
  {
   "cell_type": "code",
   "execution_count": 24,
   "metadata": {
    "collapsed": true
   },
   "outputs": [],
   "source": [
    "df_constructiveness = pd.read_csv('../../samples/f1269916_constructiveness_aggregated.csv')\n",
    "df_toxicity = pd.read_csv('../../samples/f1270155_toxicity_aggregated.csv')"
   ]
  },
  {
   "cell_type": "code",
   "execution_count": 25,
   "metadata": {
    "collapsed": true
   },
   "outputs": [],
   "source": [
    "def binarize_constructiveness(value):\n",
    "    if value <= 0.5:\n",
    "        return 'no'\n",
    "    else:\n",
    "        return 'yes'"
   ]
  },
  {
   "cell_type": "code",
   "execution_count": 26,
   "metadata": {
    "collapsed": true
   },
   "outputs": [],
   "source": [
    "dfs = [df_constructiveness, df_toxicity]#, df3, df4]"
   ]
  },
  {
   "cell_type": "code",
   "execution_count": 27,
   "metadata": {},
   "outputs": [
    {
     "data": {
      "text/plain": [
       "Index(['article_id', 'article_author', 'article_published_date',\n",
       "       'article_text', 'article_title', 'article_url', 'comment_author',\n",
       "       'comment_counter', 'comment_text', 'agree_constructiveness_expt',\n",
       "       'constructive', 'constructive_characteristics',\n",
       "       'non_constructive_characteristics', 'other_con_chars',\n",
       "       'other_noncon_chars', 'crowd_comments_constructiveness_expt',\n",
       "       'agree_toxicity_expt', 'crowd_toxicity_level', 'has_content',\n",
       "       'crowd_discard', 'toxicity_characteristics', 'other_toxic_chars',\n",
       "       'crowd_comments_toxicity_expt'],\n",
       "      dtype='object')"
      ]
     },
     "execution_count": 27,
     "metadata": {},
     "output_type": "execute_result"
    }
   ],
   "source": [
    "df_merged = reduce(lambda left,right: pd.merge(left,right,on=['article_id', 'article_author', 'article_published_date',\n",
    "        'article_title', 'article_url', 'article_text',\n",
    "       'comment_author', 'comment_counter', 'comment_text'], how='outer'), dfs)\n",
    "df_merged.columns"
   ]
  },
  {
   "cell_type": "code",
   "execution_count": 28,
   "metadata": {},
   "outputs": [],
   "source": [
    "df_merged['constructive'] = df_merged['constructive'].apply(pd.to_numeric)\n",
    "df_merged['constructive'] = df_merged['constructive'].apply(lambda x: round(x,3))\n",
    "\n",
    "df_merged['agree_constructiveness_expt'] = df_merged['agree_constructiveness_expt'].apply(pd.to_numeric)\n",
    "df_merged['agree_constructiveness_expt'] = df_merged['agree_constructiveness_expt'].apply(lambda x: round(x,3))\n",
    "\n",
    "df_merged['agree_toxicity_expt'] = df_merged['agree_toxicity_expt'].apply(pd.to_numeric)\n",
    "df_merged['agree_toxicity_expt'] = df_merged['agree_toxicity_expt'].apply(lambda x: round(x,3))\n",
    "\n",
    "df_merged['crowd_toxicity_level'] = df_merged['crowd_toxicity_level'].apply(pd.to_numeric)\n",
    "df_merged['crowd_toxicity_level'] = df_merged['crowd_toxicity_level'].apply(lambda x: round(x,3))"
   ]
  },
  {
   "cell_type": "code",
   "execution_count": 29,
   "metadata": {
    "collapsed": true
   },
   "outputs": [],
   "source": [
    "# Sort the merged dataframe on constructiveness and toxicity\n",
    "df_sorted = df_merged.sort_values(by=['constructive', 'crowd_toxicity_level'], ascending = False)"
   ]
  },
  {
   "cell_type": "code",
   "execution_count": 30,
   "metadata": {
    "collapsed": true
   },
   "outputs": [],
   "source": [
    "cols = (['article_id', 'article_author', 'article_published_date',\n",
    "        'article_title', 'article_url', 'article_text',\n",
    "       'comment_author', 'comment_counter', 'comment_text',\n",
    "       'agree_constructiveness_expt', 'agree_toxicity_expt', 'constructive', 'crowd_toxicity_level',\n",
    "       'has_content', 'crowd_discard',  \n",
    "       'constructive_characteristics', 'non_constructive_characteristics',\n",
    "       'toxicity_characteristics',                 \n",
    "       'crowd_comments_constructiveness_expt', \n",
    "       'crowd_comments_toxicity_expt',\n",
    "       'other_con_chars', 'other_noncon_chars', 'other_toxic_chars'         \n",
    "        ])"
   ]
  },
  {
   "cell_type": "code",
   "execution_count": 31,
   "metadata": {
    "collapsed": true
   },
   "outputs": [],
   "source": [
    "#df_final.to_csv('comparison_of_four_exp_organized.csv', columns = cols1, index = False)\n",
    "df_sorted.to_csv('../../samples/constructiveness_and_toxicity_combined.csv', columns = cols, index = False)"
   ]
  },
  {
   "cell_type": "code",
   "execution_count": null,
   "metadata": {
    "collapsed": true
   },
   "outputs": [],
   "source": []
  }
 ],
 "metadata": {
  "kernelspec": {
   "display_name": "Python 3",
   "language": "python",
   "name": "python3"
  },
  "language_info": {
   "codemirror_mode": {
    "name": "ipython",
    "version": 3
   },
   "file_extension": ".py",
   "mimetype": "text/x-python",
   "name": "python",
   "nbconvert_exporter": "python",
   "pygments_lexer": "ipython3",
   "version": "3.6.1"
  }
 },
 "nbformat": 4,
 "nbformat_minor": 2
}
